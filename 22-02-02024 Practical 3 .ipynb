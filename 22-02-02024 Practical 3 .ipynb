{
 "cells": [
  {
   "cell_type": "markdown",
   "id": "3627825a",
   "metadata": {},
   "source": [
    "Task 1"
   ]
  },
  {
   "cell_type": "code",
   "execution_count": 79,
   "id": "6b2b2994",
   "metadata": {},
   "outputs": [
    {
     "name": "stdout",
     "output_type": "stream",
     "text": [
      "120\n"
     ]
    }
   ],
   "source": [
    "num = 5\n",
    "fact = 1\n",
    "while (num >= 1):\n",
    "    fact = fact * num\n",
    "    num = num-1\n",
    "\n",
    "print(fact)"
   ]
  },
  {
   "cell_type": "markdown",
   "id": "4866d7f2",
   "metadata": {},
   "source": [
    "TASK 2"
   ]
  },
  {
   "cell_type": "code",
   "execution_count": 65,
   "id": "c6f3b8bb",
   "metadata": {},
   "outputs": [
    {
     "name": "stdout",
     "output_type": "stream",
     "text": [
      "element 7  found at position  5\n"
     ]
    }
   ],
   "source": [
    "my_list = [4, 3, 10, 1, 9, 7, 8, 6, 2, 5]\n",
    "user_input = 7\n",
    "\n",
    "\n",
    "\n",
    "def checkit(check_element,A):\n",
    "    found =0\n",
    "    for i in range(0,len(A)):\n",
    "        if A[i] == check_element:\n",
    "            found =1\n",
    "            break\n",
    "    if found==1:\n",
    "        return i\n",
    "    else:\n",
    "        return False\n",
    "\n",
    "\n",
    "output = checkit(user_input,my_list)\n",
    "if output:\n",
    "    print(\"element\",user_input,\" found at position \",output)\n",
    "else:\n",
    "    print(\"element not found\")"
   ]
  },
  {
   "cell_type": "markdown",
   "id": "eb41a6f7",
   "metadata": {},
   "source": [
    "Can we use the linear search algorithm to find a\n",
    "given number x in a sorted list A?\n",
    "A = [25, 36, 43, 56, 60, 78, 81, 89, 93, 97, 99]\n",
    "x = 78"
   ]
  },
  {
   "cell_type": "code",
   "execution_count": 68,
   "id": "9f9eabba",
   "metadata": {},
   "outputs": [
    {
     "name": "stdout",
     "output_type": "stream",
     "text": [
      "element 78  found at position  5\n"
     ]
    }
   ],
   "source": [
    "my_list = [25, 36, 43, 56, 60, 78, 81, 89, 93, 97, 99]\n",
    "user_input = 78\n",
    "\n",
    "\n",
    "\n",
    "def checkit(check_element,A):\n",
    "    found =0\n",
    "    for i in range(0,len(A)):\n",
    "        if A[i] == check_element:\n",
    "            found =1\n",
    "            break\n",
    "    if found==1:\n",
    "        return i\n",
    "    else:\n",
    "        return False\n",
    "\n",
    "\n",
    "output = checkit(user_input,my_list)\n",
    "if output:\n",
    "    print(\"element\",user_input,\" found at position \",output)\n",
    "else:\n",
    "    print(\"element not found\")"
   ]
  },
  {
   "cell_type": "markdown",
   "id": "a98ab366",
   "metadata": {},
   "source": [
    "TASK 3"
   ]
  },
  {
   "cell_type": "code",
   "execution_count": 59,
   "id": "d73e4f18",
   "metadata": {},
   "outputs": [
    {
     "name": "stdout",
     "output_type": "stream",
     "text": [
      "25 is present at index  0 in  [25, 36, 43, 56, 68, 81, 89, 93, 97, 99]\n"
     ]
    }
   ],
   "source": [
    "A = [25, 36, 43, 56, 68, 81, 89, 93, 97, 99]\n",
    "x = 25\n",
    "def binary_search(x, A):\n",
    "    low = 0\n",
    "    high = len(A)-1\n",
    "    while(low <= high):\n",
    "        mid = (low+high) //2 \n",
    "        if A[mid] ==x :\n",
    "            return mid\n",
    "        elif A[mid]>x:\n",
    "            high = mid-1\n",
    "        else:\n",
    "            low = mid+1\n",
    "    return -1\n",
    "idx = binary_search(x,A)\n",
    "if idx == -1:\n",
    "    print(x, \"is not present in \", A)\n",
    "else:\n",
    "    print(x, \"is present at index \",idx, \"in \", A)\n",
    "        "
   ]
  },
  {
   "cell_type": "markdown",
   "id": "344a58de",
   "metadata": {},
   "source": [
    "TASK 4"
   ]
  },
  {
   "cell_type": "code",
   "execution_count": 71,
   "id": "e8259664",
   "metadata": {},
   "outputs": [
    {
     "name": "stdout",
     "output_type": "stream",
     "text": [
      "55\n"
     ]
    }
   ],
   "source": [
    "A = 10\n",
    "sum =0\n",
    "for i in range(0,A+1):\n",
    "    sum = sum+i\n",
    "print(sum)"
   ]
  },
  {
   "cell_type": "markdown",
   "id": "b6468d96",
   "metadata": {},
   "source": [
    "TASK 5"
   ]
  },
  {
   "cell_type": "code",
   "execution_count": 80,
   "id": "334e1ca3",
   "metadata": {},
   "outputs": [
    {
     "ename": "SyntaxError",
     "evalue": "unexpected EOF while parsing (2335898981.py, line 1)",
     "output_type": "error",
     "traceback": [
      "\u001b[1;36m  File \u001b[1;32m\"C:\\Temp\\ipykernel_18564\\2335898981.py\"\u001b[1;36m, line \u001b[1;32m1\u001b[0m\n\u001b[1;33m    def add_numbers_upto():\u001b[0m\n\u001b[1;37m                           ^\u001b[0m\n\u001b[1;31mSyntaxError\u001b[0m\u001b[1;31m:\u001b[0m unexpected EOF while parsing\n"
     ]
    }
   ],
   "source": [
    "def add_numbers_upto():\n",
    "    if(num>0):\n",
    "        result "
   ]
  },
  {
   "cell_type": "code",
   "execution_count": null,
   "id": "96c7e782",
   "metadata": {},
   "outputs": [],
   "source": []
  }
 ],
 "metadata": {
  "kernelspec": {
   "display_name": "Python 3 (ipykernel)",
   "language": "python",
   "name": "python3"
  },
  "language_info": {
   "codemirror_mode": {
    "name": "ipython",
    "version": 3
   },
   "file_extension": ".py",
   "mimetype": "text/x-python",
   "name": "python",
   "nbconvert_exporter": "python",
   "pygments_lexer": "ipython3",
   "version": "3.7.16"
  }
 },
 "nbformat": 4,
 "nbformat_minor": 5
}
