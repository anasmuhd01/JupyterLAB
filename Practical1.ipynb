{
 "cells": [
  {
   "cell_type": "code",
   "execution_count": null,
   "id": "cac56b71",
   "metadata": {},
   "outputs": [],
   "source": [
    "print('this is python code')"
   ]
  },
  {
   "cell_type": "markdown",
   "id": "4e52c3bd",
   "metadata": {},
   "source": [
    "this is python code"
   ]
  },
  {
   "cell_type": "code",
   "execution_count": 32,
   "id": "d2621045",
   "metadata": {},
   "outputs": [
    {
     "name": "stdout",
     "output_type": "stream",
     "text": [
      "[3, 6, 42, 252, 20, 77, 462, 10800]\n"
     ]
    },
    {
     "data": {
      "text/plain": [
       "[10800, 6, 42, 252, 20, 77, 462, 3]"
      ]
     },
     "execution_count": 32,
     "metadata": {},
     "output_type": "execute_result"
    }
   ],
   "source": [
    "myList = []\n",
    "for n in [3, 6, 42, 252, 20, 77, 462, 10800]:\n",
    "    myList.append(n)\n",
    "\n",
    "print(myList)\n",
    "\n",
    "myList[0], myList[-1] = myList[-1], myList[0]\n",
    "myList\n",
    "\n"
   ]
  },
  {
   "cell_type": "code",
   "execution_count": 35,
   "id": "54ea03d5",
   "metadata": {},
   "outputs": [
    {
     "name": "stdout",
     "output_type": "stream",
     "text": [
      "[10800, 42, 20, 462]\n"
     ]
    }
   ],
   "source": [
    "x=[i for i in myList[::2]]\n",
    "print(x)"
   ]
  },
  {
   "cell_type": "code",
   "execution_count": 29,
   "id": "e5b7fa08",
   "metadata": {},
   "outputs": [
    {
     "name": "stdout",
     "output_type": "stream",
     "text": [
      "10800\n",
      "42\n",
      "20\n",
      "462\n"
     ]
    }
   ],
   "source": [
    "for i in myList[ ::2 ]:\n",
    "    print(i)"
   ]
  },
  {
   "cell_type": "code",
   "execution_count": 37,
   "id": "505d2f75",
   "metadata": {},
   "outputs": [
    {
     "name": "stdout",
     "output_type": "stream",
     "text": [
      "[10800, 6, 42, 252, 20, 462]\n"
     ]
    }
   ],
   "source": [
    "test = [i for i in myList if i%2 == 0]\n",
    "print(test)"
   ]
  },
  {
   "cell_type": "code",
   "execution_count": 38,
   "id": "5b6bc84e",
   "metadata": {},
   "outputs": [
    {
     "name": "stdout",
     "output_type": "stream",
     "text": [
      "[42, 252, 462]\n"
     ]
    }
   ],
   "source": [
    "test = [i for i in myList if i%2 == 0 and i%3 ==0 and i%7 == 0]\n",
    "print(test)\n"
   ]
  },
  {
   "cell_type": "code",
   "execution_count": 39,
   "id": "a2eb6cda",
   "metadata": {},
   "outputs": [
    {
     "name": "stdout",
     "output_type": "stream",
     "text": [
      "[42, 252]\n"
     ]
    }
   ],
   "source": [
    "test = [i for i in myList if i%7 ==0 and i%11 != 0]\n",
    "print(test)"
   ]
  },
  {
   "cell_type": "code",
   "execution_count": 44,
   "id": "a90b2e0f",
   "metadata": {},
   "outputs": [
    {
     "name": "stdout",
     "output_type": "stream",
     "text": [
      "[3, 10800]\n"
     ]
    }
   ],
   "source": [
    "def firstLast(input_list):\n",
    "    return [input_list[0],input_list[-1]]\n",
    "testList = [3, 6, 42, 252, 20, 77, 462, 10800]\n",
    "print(firstLast(testList))"
   ]
  },
  {
   "cell_type": "code",
   "execution_count": 58,
   "id": "935c0f0b",
   "metadata": {},
   "outputs": [
    {
     "name": "stdout",
     "output_type": "stream",
     "text": [
      "large element -->  322224\n"
     ]
    }
   ],
   "source": [
    "def test_fun(input_list):\n",
    "    \n",
    "    var1,var2,var3 = input_list\n",
    "    \n",
    "    if var1 > var2 and var1 > var3:\n",
    "        return var1\n",
    "    \n",
    "    elif var2 > var1 and var2 > var3:\n",
    "        return var2\n",
    "    \n",
    "    else:  \n",
    "        return var3\n",
    "\n",
    "test_list00 = [11333,322224,245]\n",
    "\n",
    "one= test_fun(test_list00)\n",
    "\n",
    "print('large element --> ',one)"
   ]
  },
  {
   "cell_type": "code",
   "execution_count": 55,
   "id": "943ed7d8",
   "metadata": {},
   "outputs": [
    {
     "ename": "SyntaxError",
     "evalue": "invalid syntax (4281402623.py, line 2)",
     "output_type": "error",
     "traceback": [
      "\u001b[1;36m  File \u001b[1;32m\"C:\\Temp\\ipykernel_16456\\4281402623.py\"\u001b[1;36m, line \u001b[1;32m2\u001b[0m\n\u001b[1;33m    [i for i in testList0 if a[i] > a[i+1] a[i] = a[i+1]]\u001b[0m\n\u001b[1;37m                                           ^\u001b[0m\n\u001b[1;31mSyntaxError\u001b[0m\u001b[1;31m:\u001b[0m invalid syntax\n"
     ]
    }
   ],
   "source": [
    "A = [3, 6, 42, 252, 20, 77, 462, 4]\n",
    "\n",
    "temp = []\n",
    "for i in A:\n",
    "    if A[i] > A[i+1]:\n",
    "        A[]\n"
   ]
  },
  {
   "cell_type": "code",
   "execution_count": 62,
   "id": "4f8b7f53",
   "metadata": {},
   "outputs": [
    {
     "name": "stdout",
     "output_type": "stream",
     "text": [
      "[]\n"
     ]
    }
   ],
   "source": [
    "temp =[]\n",
    "print(temp)"
   ]
  },
  {
   "cell_type": "code",
   "execution_count": 63,
   "id": "f3ba55d6",
   "metadata": {},
   "outputs": [
    {
     "name": "stdout",
     "output_type": "stream",
     "text": [
      "input [4, 3, 10, 1, 9, 7, 8, 6, 2, 5]\n",
      "output [1, 4, 3, 10, 2, 9, 7, 8, 6, 5]\n"
     ]
    }
   ],
   "source": [
    "A = [4,3,10,1,9,7,8,6,2,5]\n",
    "print('input',A)\n",
    "\n",
    "for j in range(len(A)-1, 0, -1):\n",
    "    if A[j] < A[j-1]:\n",
    "        A[j], A[j-1] = A[j-1],A[j]\n",
    "print('output',A)"
   ]
  },
  {
   "cell_type": "code",
   "execution_count": null,
   "id": "4114cf71",
   "metadata": {},
   "outputs": [],
   "source": []
  }
 ],
 "metadata": {
  "kernelspec": {
   "display_name": "Python 3 (ipykernel)",
   "language": "python",
   "name": "python3"
  },
  "language_info": {
   "codemirror_mode": {
    "name": "ipython",
    "version": 3
   },
   "file_extension": ".py",
   "mimetype": "text/x-python",
   "name": "python",
   "nbconvert_exporter": "python",
   "pygments_lexer": "ipython3",
   "version": "3.7.16"
  }
 },
 "nbformat": 4,
 "nbformat_minor": 5
}
